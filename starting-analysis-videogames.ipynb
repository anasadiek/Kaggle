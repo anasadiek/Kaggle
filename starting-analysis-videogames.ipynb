{
 "cells": [
  {
   "cell_type": "code",
   "execution_count": 1,
   "id": "7963f2a3",
   "metadata": {
    "execution": {
     "iopub.execute_input": "2025-06-02T21:07:03.758973Z",
     "iopub.status.busy": "2025-06-02T21:07:03.757968Z",
     "iopub.status.idle": "2025-06-02T21:07:06.765636Z",
     "shell.execute_reply": "2025-06-02T21:07:06.764293Z"
    },
    "papermill": {
     "duration": 3.016883,
     "end_time": "2025-06-02T21:07:06.767701",
     "exception": false,
     "start_time": "2025-06-02T21:07:03.750818",
     "status": "completed"
    },
    "tags": []
   },
   "outputs": [
    {
     "name": "stderr",
     "output_type": "stream",
     "text": [
      "/tmp/ipykernel_13/662714986.py:10: DeprecationWarning: load_dataset is deprecated and will be removed in a future version.\n",
      "  file = kagglehub.load_dataset(\n"
     ]
    }
   ],
   "source": [
    "# Install dependencies as needed:\n",
    "# pip install kagglehub[pandas-datasets]\n",
    "import kagglehub\n",
    "from kagglehub import KaggleDatasetAdapter\n",
    "\n",
    "# Set the path to the file you'd like to load\n",
    "file_path = \"vgsales new.csv\"\n",
    "\n",
    "# Load the latest version\n",
    "file = kagglehub.load_dataset(\n",
    "  KaggleDatasetAdapter.PANDAS,\n",
    "  \"willianoliveiragibin/video-game-sales-analyze\",\n",
    "  file_path,\n",
    "  # Provide any additional arguments like \n",
    "  # sql_query or pandas_kwargs. See the \n",
    "  # documenation for more information:\n",
    "  # https://github.com/Kaggle/kagglehub/blob/main/README.md#kaggledatasetadapterpandas\n",
    ")\n",
    "\n"
   ]
  },
  {
   "cell_type": "markdown",
   "id": "ac1528aa",
   "metadata": {
    "papermill": {
     "duration": 0.004434,
     "end_time": "2025-06-02T21:07:06.777331",
     "exception": false,
     "start_time": "2025-06-02T21:07:06.772897",
     "status": "completed"
    },
    "tags": []
   },
   "source": [
    "# Check Data And Drop Down Null Values "
   ]
  },
  {
   "cell_type": "code",
   "execution_count": 2,
   "id": "b5e3b013",
   "metadata": {
    "execution": {
     "iopub.execute_input": "2025-06-02T21:07:06.787811Z",
     "iopub.status.busy": "2025-06-02T21:07:06.787446Z",
     "iopub.status.idle": "2025-06-02T21:07:06.794874Z",
     "shell.execute_reply": "2025-06-02T21:07:06.793924Z"
    },
    "papermill": {
     "duration": 0.014878,
     "end_time": "2025-06-02T21:07:06.796708",
     "exception": false,
     "start_time": "2025-06-02T21:07:06.781830",
     "status": "completed"
    },
    "tags": []
   },
   "outputs": [
    {
     "data": {
      "text/plain": [
       "(16598, 11)"
      ]
     },
     "execution_count": 2,
     "metadata": {},
     "output_type": "execute_result"
    }
   ],
   "source": [
    "file.shape"
   ]
  },
  {
   "cell_type": "code",
   "execution_count": 3,
   "id": "75c50699",
   "metadata": {
    "execution": {
     "iopub.execute_input": "2025-06-02T21:07:06.807557Z",
     "iopub.status.busy": "2025-06-02T21:07:06.807161Z",
     "iopub.status.idle": "2025-06-02T21:07:06.812573Z",
     "shell.execute_reply": "2025-06-02T21:07:06.811612Z"
    },
    "papermill": {
     "duration": 0.012654,
     "end_time": "2025-06-02T21:07:06.814202",
     "exception": false,
     "start_time": "2025-06-02T21:07:06.801548",
     "status": "completed"
    },
    "tags": []
   },
   "outputs": [],
   "source": [
    "import pandas as pd \n",
    "file =  pd.DataFrame(file)"
   ]
  },
  {
   "cell_type": "code",
   "execution_count": 4,
   "id": "878b42d8",
   "metadata": {
    "execution": {
     "iopub.execute_input": "2025-06-02T21:07:06.825046Z",
     "iopub.status.busy": "2025-06-02T21:07:06.824717Z",
     "iopub.status.idle": "2025-06-02T21:07:06.886233Z",
     "shell.execute_reply": "2025-06-02T21:07:06.885187Z"
    },
    "papermill": {
     "duration": 0.069197,
     "end_time": "2025-06-02T21:07:06.888076",
     "exception": false,
     "start_time": "2025-06-02T21:07:06.818879",
     "status": "completed"
    },
    "tags": []
   },
   "outputs": [
    {
     "data": {
      "text/plain": [
       "Rank              0\n",
       "Name              0\n",
       "Platform          0\n",
       "Year            271\n",
       "Genre             0\n",
       "Publisher        58\n",
       "NA_Sales          0\n",
       "EU_Sales          0\n",
       "JP_Sales          0\n",
       "Other_Sales       0\n",
       "Global_Sales      0\n",
       "dtype: int64"
      ]
     },
     "execution_count": 4,
     "metadata": {},
     "output_type": "execute_result"
    }
   ],
   "source": [
    "file.value_counts()\n",
    "file.isna().sum()"
   ]
  },
  {
   "cell_type": "code",
   "execution_count": 5,
   "id": "fdcdccb4",
   "metadata": {
    "execution": {
     "iopub.execute_input": "2025-06-02T21:07:06.899324Z",
     "iopub.status.busy": "2025-06-02T21:07:06.898500Z",
     "iopub.status.idle": "2025-06-02T21:07:06.914982Z",
     "shell.execute_reply": "2025-06-02T21:07:06.914024Z"
    },
    "papermill": {
     "duration": 0.024186,
     "end_time": "2025-06-02T21:07:06.916995",
     "exception": false,
     "start_time": "2025-06-02T21:07:06.892809",
     "status": "completed"
    },
    "tags": []
   },
   "outputs": [],
   "source": [
    "file =  file.dropna()"
   ]
  },
  {
   "cell_type": "code",
   "execution_count": 6,
   "id": "9d2e0551",
   "metadata": {
    "execution": {
     "iopub.execute_input": "2025-06-02T21:07:06.928853Z",
     "iopub.status.busy": "2025-06-02T21:07:06.927915Z",
     "iopub.status.idle": "2025-06-02T21:07:06.954271Z",
     "shell.execute_reply": "2025-06-02T21:07:06.953149Z"
    },
    "papermill": {
     "duration": 0.033852,
     "end_time": "2025-06-02T21:07:06.955914",
     "exception": false,
     "start_time": "2025-06-02T21:07:06.922062",
     "status": "completed"
    },
    "tags": []
   },
   "outputs": [
    {
     "data": {
      "text/html": [
       "<div>\n",
       "<style scoped>\n",
       "    .dataframe tbody tr th:only-of-type {\n",
       "        vertical-align: middle;\n",
       "    }\n",
       "\n",
       "    .dataframe tbody tr th {\n",
       "        vertical-align: top;\n",
       "    }\n",
       "\n",
       "    .dataframe thead th {\n",
       "        text-align: right;\n",
       "    }\n",
       "</style>\n",
       "<table border=\"1\" class=\"dataframe\">\n",
       "  <thead>\n",
       "    <tr style=\"text-align: right;\">\n",
       "      <th></th>\n",
       "      <th>Rank</th>\n",
       "      <th>Name</th>\n",
       "      <th>Platform</th>\n",
       "      <th>Year</th>\n",
       "      <th>Genre</th>\n",
       "      <th>Publisher</th>\n",
       "      <th>NA_Sales</th>\n",
       "      <th>EU_Sales</th>\n",
       "      <th>JP_Sales</th>\n",
       "      <th>Other_Sales</th>\n",
       "      <th>Global_Sales</th>\n",
       "    </tr>\n",
       "  </thead>\n",
       "  <tbody>\n",
       "    <tr>\n",
       "      <th>0</th>\n",
       "      <td>259</td>\n",
       "      <td>Asteroids</td>\n",
       "      <td>2600</td>\n",
       "      <td>1980.0</td>\n",
       "      <td>Shooter</td>\n",
       "      <td>Atari</td>\n",
       "      <td>4.00</td>\n",
       "      <td>0.26</td>\n",
       "      <td>0.0</td>\n",
       "      <td>0.05</td>\n",
       "      <td>4.31</td>\n",
       "    </tr>\n",
       "    <tr>\n",
       "      <th>1</th>\n",
       "      <td>545</td>\n",
       "      <td>Missile Command</td>\n",
       "      <td>2600</td>\n",
       "      <td>1980.0</td>\n",
       "      <td>Shooter</td>\n",
       "      <td>Atari</td>\n",
       "      <td>2.56</td>\n",
       "      <td>0.17</td>\n",
       "      <td>0.0</td>\n",
       "      <td>0.03</td>\n",
       "      <td>2.76</td>\n",
       "    </tr>\n",
       "    <tr>\n",
       "      <th>2</th>\n",
       "      <td>1768</td>\n",
       "      <td>Kaboom!</td>\n",
       "      <td>2600</td>\n",
       "      <td>1980.0</td>\n",
       "      <td>Misc</td>\n",
       "      <td>Activision</td>\n",
       "      <td>1.07</td>\n",
       "      <td>0.07</td>\n",
       "      <td>0.0</td>\n",
       "      <td>0.01</td>\n",
       "      <td>1.15</td>\n",
       "    </tr>\n",
       "    <tr>\n",
       "      <th>3</th>\n",
       "      <td>1971</td>\n",
       "      <td>Defender</td>\n",
       "      <td>2600</td>\n",
       "      <td>1980.0</td>\n",
       "      <td>Misc</td>\n",
       "      <td>Atari</td>\n",
       "      <td>0.99</td>\n",
       "      <td>0.05</td>\n",
       "      <td>0.0</td>\n",
       "      <td>0.01</td>\n",
       "      <td>1.05</td>\n",
       "    </tr>\n",
       "    <tr>\n",
       "      <th>4</th>\n",
       "      <td>2671</td>\n",
       "      <td>Boxing</td>\n",
       "      <td>2600</td>\n",
       "      <td>1980.0</td>\n",
       "      <td>Fighting</td>\n",
       "      <td>Activision</td>\n",
       "      <td>0.72</td>\n",
       "      <td>0.04</td>\n",
       "      <td>0.0</td>\n",
       "      <td>0.01</td>\n",
       "      <td>0.77</td>\n",
       "    </tr>\n",
       "  </tbody>\n",
       "</table>\n",
       "</div>"
      ],
      "text/plain": [
       "   Rank             Name Platform    Year     Genre   Publisher  NA_Sales  \\\n",
       "0   259        Asteroids     2600  1980.0   Shooter       Atari      4.00   \n",
       "1   545  Missile Command     2600  1980.0   Shooter       Atari      2.56   \n",
       "2  1768          Kaboom!     2600  1980.0      Misc  Activision      1.07   \n",
       "3  1971         Defender     2600  1980.0      Misc       Atari      0.99   \n",
       "4  2671           Boxing     2600  1980.0  Fighting  Activision      0.72   \n",
       "\n",
       "   EU_Sales  JP_Sales  Other_Sales  Global_Sales  \n",
       "0      0.26       0.0         0.05          4.31  \n",
       "1      0.17       0.0         0.03          2.76  \n",
       "2      0.07       0.0         0.01          1.15  \n",
       "3      0.05       0.0         0.01          1.05  \n",
       "4      0.04       0.0         0.01          0.77  "
      ]
     },
     "execution_count": 6,
     "metadata": {},
     "output_type": "execute_result"
    }
   ],
   "source": [
    "file.head()"
   ]
  },
  {
   "cell_type": "markdown",
   "id": "d740a738",
   "metadata": {
    "execution": {
     "iopub.execute_input": "2025-06-02T20:43:07.111284Z",
     "iopub.status.busy": "2025-06-02T20:43:07.110965Z",
     "iopub.status.idle": "2025-06-02T20:43:07.116192Z",
     "shell.execute_reply": "2025-06-02T20:43:07.115281Z",
     "shell.execute_reply.started": "2025-06-02T20:43:07.111256Z"
    },
    "papermill": {
     "duration": 0.004516,
     "end_time": "2025-06-02T21:07:06.965409",
     "exception": false,
     "start_time": "2025-06-02T21:07:06.960893",
     "status": "completed"
    },
    "tags": []
   },
   "source": [
    "# lets check sales  across the Platform "
   ]
  },
  {
   "cell_type": "code",
   "execution_count": 7,
   "id": "6bfdebb4",
   "metadata": {
    "execution": {
     "iopub.execute_input": "2025-06-02T21:07:06.976743Z",
     "iopub.status.busy": "2025-06-02T21:07:06.976399Z",
     "iopub.status.idle": "2025-06-02T21:07:08.183906Z",
     "shell.execute_reply": "2025-06-02T21:07:08.182869Z"
    },
    "papermill": {
     "duration": 1.215709,
     "end_time": "2025-06-02T21:07:08.185716",
     "exception": false,
     "start_time": "2025-06-02T21:07:06.970007",
     "status": "completed"
    },
    "tags": []
   },
   "outputs": [
    {
     "data": {
      "text/plain": [
       "Rank   Name                             Platform  Year    Genre     Publisher                     NA_Sales  EU_Sales  JP_Sales  Other_Sales  Global_Sales\n",
       "1      Wii Sports                       Wii       2006.0  Sports    Nintendo                      41.49     29.02     3.77      8.46         82.74           1\n",
       "11062  Beowulf: The Game                PSP       2007.0  Action    Ubisoft                       0.08      0.00      0.00      0.01         0.09            1\n",
       "11049  Castlevania Dracula X            SNES      1995.0  Platform  Konami Digital Entertainment  0.03      0.01      0.05      0.00         0.09            1\n",
       "11050  Golden Nugget 64                 N64       1998.0  Misc      Electronic Arts               0.07      0.02      0.00      0.00         0.09            1\n",
       "11051  Robotron 64                      N64       1998.0  Shooter   GT Interactive                0.07      0.02      0.00      0.00         0.09            1\n",
       "                                                                                                                                                            ..\n",
       "5522   Call Of Duty 2: Big Red One      GC        2005.0  Shooter   Activision                    0.25      0.07      0.00      0.01         0.33            1\n",
       "5523   Elebits                          Wii       2006.0  Action    Konami Digital Entertainment  0.22      0.01      0.08      0.02         0.33            1\n",
       "5524   Warhammer 40,000: Squad Command  PSP       2007.0  Strategy  THQ                           0.11      0.14      0.00      0.08         0.33            1\n",
       "5525   F1 2013                          X360      2013.0  Racing    Codemasters                   0.01      0.28      0.00      0.03         0.33            1\n",
       "16600  Spirits & Spells                 GBA       2003.0  Platform  Wanadoo                       0.01      0.00      0.00      0.00         0.01            1\n",
       "Name: count, Length: 16291, dtype: int64"
      ]
     },
     "execution_count": 7,
     "metadata": {},
     "output_type": "execute_result"
    }
   ],
   "source": [
    "import plotly.express as px\n",
    "file.value_counts()"
   ]
  },
  {
   "cell_type": "code",
   "execution_count": 8,
   "id": "3e64842b",
   "metadata": {
    "execution": {
     "iopub.execute_input": "2025-06-02T21:07:08.197328Z",
     "iopub.status.busy": "2025-06-02T21:07:08.196899Z",
     "iopub.status.idle": "2025-06-02T21:07:10.441349Z",
     "shell.execute_reply": "2025-06-02T21:07:10.440481Z"
    },
    "papermill": {
     "duration": 2.252454,
     "end_time": "2025-06-02T21:07:10.443293",
     "exception": false,
     "start_time": "2025-06-02T21:07:08.190839",
     "status": "completed"
    },
    "tags": []
   },
   "outputs": [
    {
     "data": {
      "text/html": [
       "<iframe\n",
       "    scrolling=\"no\"\n",
       "    width=\"100%\"\n",
       "    height=\"545px\"\n",
       "    src=\"iframe_figures/figure_8.html\"\n",
       "    frameborder=\"0\"\n",
       "    allowfullscreen\n",
       "></iframe>\n"
      ]
     },
     "metadata": {},
     "output_type": "display_data"
    }
   ],
   "source": [
    "fig =  px.bar(data_frame=file,y='Platform',x='Global_Sales',orientation='h',category_orders={'Platform':file.groupby(['Platform']).agg({'Global_Sales':'sum'}).reset_index().sort_values(by='Global_Sales')['Platform'].to_list()})\n",
    "fig.show(renderer='iframe_connected')\n",
    "# from below graph we have highest sales for all platforms in ps2 \n",
    "# lets check it time series "
   ]
  },
  {
   "cell_type": "code",
   "execution_count": 9,
   "id": "d72d17f3",
   "metadata": {
    "execution": {
     "iopub.execute_input": "2025-06-02T21:07:10.457245Z",
     "iopub.status.busy": "2025-06-02T21:07:10.456828Z",
     "iopub.status.idle": "2025-06-02T21:07:10.656930Z",
     "shell.execute_reply": "2025-06-02T21:07:10.655850Z"
    },
    "papermill": {
     "duration": 0.209074,
     "end_time": "2025-06-02T21:07:10.658658",
     "exception": false,
     "start_time": "2025-06-02T21:07:10.449584",
     "status": "completed"
    },
    "tags": []
   },
   "outputs": [
    {
     "data": {
      "text/html": [
       "<iframe\n",
       "    scrolling=\"no\"\n",
       "    width=\"100%\"\n",
       "    height=\"545px\"\n",
       "    src=\"iframe_figures/figure_9.html\"\n",
       "    frameborder=\"0\"\n",
       "    allowfullscreen\n",
       "></iframe>\n"
      ]
     },
     "metadata": {},
     "output_type": "display_data"
    }
   ],
   "source": [
    "fig =  px.line(data_frame=file,x='Year',y='Global_Sales',color='Platform')\n",
    "#we have alot of platforms and its hard to compare , lets get only highest 10 platforms by value \n",
    "fig.show(renderer='iframe_connected')"
   ]
  },
  {
   "cell_type": "code",
   "execution_count": 10,
   "id": "944a4031",
   "metadata": {
    "execution": {
     "iopub.execute_input": "2025-06-02T21:07:10.671330Z",
     "iopub.status.busy": "2025-06-02T21:07:10.670788Z",
     "iopub.status.idle": "2025-06-02T21:07:10.686146Z",
     "shell.execute_reply": "2025-06-02T21:07:10.685117Z"
    },
    "papermill": {
     "duration": 0.023396,
     "end_time": "2025-06-02T21:07:10.687840",
     "exception": false,
     "start_time": "2025-06-02T21:07:10.664444",
     "status": "completed"
    },
    "tags": []
   },
   "outputs": [
    {
     "data": {
      "text/html": [
       "<div>\n",
       "<style scoped>\n",
       "    .dataframe tbody tr th:only-of-type {\n",
       "        vertical-align: middle;\n",
       "    }\n",
       "\n",
       "    .dataframe tbody tr th {\n",
       "        vertical-align: top;\n",
       "    }\n",
       "\n",
       "    .dataframe thead th {\n",
       "        text-align: right;\n",
       "    }\n",
       "</style>\n",
       "<table border=\"1\" class=\"dataframe\">\n",
       "  <thead>\n",
       "    <tr style=\"text-align: right;\">\n",
       "      <th></th>\n",
       "      <th>Global_Sales</th>\n",
       "    </tr>\n",
       "    <tr>\n",
       "      <th>Platform</th>\n",
       "      <th></th>\n",
       "    </tr>\n",
       "  </thead>\n",
       "  <tbody>\n",
       "    <tr>\n",
       "      <th>PS2</th>\n",
       "      <td>1233.46</td>\n",
       "    </tr>\n",
       "    <tr>\n",
       "      <th>X360</th>\n",
       "      <td>969.60</td>\n",
       "    </tr>\n",
       "    <tr>\n",
       "      <th>PS3</th>\n",
       "      <td>949.35</td>\n",
       "    </tr>\n",
       "    <tr>\n",
       "      <th>Wii</th>\n",
       "      <td>909.81</td>\n",
       "    </tr>\n",
       "    <tr>\n",
       "      <th>DS</th>\n",
       "      <td>818.91</td>\n",
       "    </tr>\n",
       "    <tr>\n",
       "      <th>PS</th>\n",
       "      <td>727.39</td>\n",
       "    </tr>\n",
       "    <tr>\n",
       "      <th>GBA</th>\n",
       "      <td>305.62</td>\n",
       "    </tr>\n",
       "    <tr>\n",
       "      <th>PSP</th>\n",
       "      <td>291.71</td>\n",
       "    </tr>\n",
       "    <tr>\n",
       "      <th>PS4</th>\n",
       "      <td>278.10</td>\n",
       "    </tr>\n",
       "    <tr>\n",
       "      <th>PC</th>\n",
       "      <td>254.70</td>\n",
       "    </tr>\n",
       "  </tbody>\n",
       "</table>\n",
       "</div>"
      ],
      "text/plain": [
       "          Global_Sales\n",
       "Platform              \n",
       "PS2            1233.46\n",
       "X360            969.60\n",
       "PS3             949.35\n",
       "Wii             909.81\n",
       "DS              818.91\n",
       "PS              727.39\n",
       "GBA             305.62\n",
       "PSP             291.71\n",
       "PS4             278.10\n",
       "PC              254.70"
      ]
     },
     "execution_count": 10,
     "metadata": {},
     "output_type": "execute_result"
    }
   ],
   "source": [
    "#here we list top 10 \n",
    "file.groupby(['Platform']).agg({'Global_Sales':'sum'}).sort_values(by='Global_Sales',ascending=False).head(10)\n"
   ]
  },
  {
   "cell_type": "code",
   "execution_count": 11,
   "id": "b1378904",
   "metadata": {
    "execution": {
     "iopub.execute_input": "2025-06-02T21:07:10.700350Z",
     "iopub.status.busy": "2025-06-02T21:07:10.699927Z",
     "iopub.status.idle": "2025-06-02T21:07:10.712996Z",
     "shell.execute_reply": "2025-06-02T21:07:10.711937Z"
    },
    "papermill": {
     "duration": 0.021212,
     "end_time": "2025-06-02T21:07:10.714712",
     "exception": false,
     "start_time": "2025-06-02T21:07:10.693500",
     "status": "completed"
    },
    "tags": []
   },
   "outputs": [
    {
     "data": {
      "text/plain": [
       "['PS2', 'X360', 'PS3', 'Wii', 'DS', 'PS', 'GBA', 'PSP', 'PS4', 'PC']"
      ]
     },
     "execution_count": 11,
     "metadata": {},
     "output_type": "execute_result"
    }
   ],
   "source": [
    "file.groupby(['Platform']).agg({'Global_Sales':'sum'}).sort_values(by='Global_Sales',ascending=False).head(10).reset_index()['Platform'].to_list()"
   ]
  },
  {
   "cell_type": "code",
   "execution_count": 12,
   "id": "68274ed2",
   "metadata": {
    "execution": {
     "iopub.execute_input": "2025-06-02T21:07:10.728666Z",
     "iopub.status.busy": "2025-06-02T21:07:10.728135Z",
     "iopub.status.idle": "2025-06-02T21:07:10.817334Z",
     "shell.execute_reply": "2025-06-02T21:07:10.816158Z"
    },
    "papermill": {
     "duration": 0.097958,
     "end_time": "2025-06-02T21:07:10.819252",
     "exception": false,
     "start_time": "2025-06-02T21:07:10.721294",
     "status": "completed"
    },
    "tags": []
   },
   "outputs": [
    {
     "data": {
      "text/html": [
       "<iframe\n",
       "    scrolling=\"no\"\n",
       "    width=\"100%\"\n",
       "    height=\"545px\"\n",
       "    src=\"iframe_figures/figure_12.html\"\n",
       "    frameborder=\"0\"\n",
       "    allowfullscreen\n",
       "></iframe>\n"
      ]
     },
     "metadata": {},
     "output_type": "display_data"
    }
   ],
   "source": [
    "fig = px.line(data_frame=file[file['Platform'].isin(file.groupby(['Platform']).agg({'Global_Sales':'sum'}).sort_values(by='Global_Sales',ascending=False).head(10).reset_index()['Platform'].to_list())],x='Year',y='Global_Sales',color='Platform')\n",
    "fig.show(renderer='iframe_connected')\n",
    "#lets check tis high value of wii "
   ]
  },
  {
   "cell_type": "code",
   "execution_count": 13,
   "id": "885e9dd4",
   "metadata": {
    "execution": {
     "iopub.execute_input": "2025-06-02T21:07:10.832919Z",
     "iopub.status.busy": "2025-06-02T21:07:10.832523Z",
     "iopub.status.idle": "2025-06-02T21:07:10.957576Z",
     "shell.execute_reply": "2025-06-02T21:07:10.956613Z"
    },
    "papermill": {
     "duration": 0.13393,
     "end_time": "2025-06-02T21:07:10.959403",
     "exception": false,
     "start_time": "2025-06-02T21:07:10.825473",
     "status": "completed"
    },
    "tags": []
   },
   "outputs": [
    {
     "data": {
      "text/html": [
       "<iframe\n",
       "    scrolling=\"no\"\n",
       "    width=\"100%\"\n",
       "    height=\"620\"\n",
       "    src=\"iframe_figures/figure_13.html\"\n",
       "    frameborder=\"0\"\n",
       "    allowfullscreen\n",
       "></iframe>\n"
      ]
     },
     "metadata": {},
     "output_type": "display_data"
    }
   ],
   "source": [
    "fig = px.box(data_frame=file[file['Platform'].isin(file.groupby(['Platform']).agg({'Global_Sales':'sum'}).sort_values(by='Global_Sales',ascending=False).head(10).reset_index()['Platform'].to_list())],y='Global_Sales',color='Platform',height=600)\n",
    "fig.show(renderer='iframe_connected')\n",
    "# as shown below we have outlier For Wii for 82 Million \n",
    "#lets go deeper to check what this come from "
   ]
  },
  {
   "cell_type": "code",
   "execution_count": 14,
   "id": "a0a0e710",
   "metadata": {
    "execution": {
     "iopub.execute_input": "2025-06-02T21:07:10.972691Z",
     "iopub.status.busy": "2025-06-02T21:07:10.972336Z",
     "iopub.status.idle": "2025-06-02T21:07:10.989060Z",
     "shell.execute_reply": "2025-06-02T21:07:10.988162Z"
    },
    "papermill": {
     "duration": 0.025247,
     "end_time": "2025-06-02T21:07:10.990694",
     "exception": false,
     "start_time": "2025-06-02T21:07:10.965447",
     "status": "completed"
    },
    "tags": []
   },
   "outputs": [
    {
     "data": {
      "text/html": [
       "<div>\n",
       "<style scoped>\n",
       "    .dataframe tbody tr th:only-of-type {\n",
       "        vertical-align: middle;\n",
       "    }\n",
       "\n",
       "    .dataframe tbody tr th {\n",
       "        vertical-align: top;\n",
       "    }\n",
       "\n",
       "    .dataframe thead th {\n",
       "        text-align: right;\n",
       "    }\n",
       "</style>\n",
       "<table border=\"1\" class=\"dataframe\">\n",
       "  <thead>\n",
       "    <tr style=\"text-align: right;\">\n",
       "      <th></th>\n",
       "      <th>Rank</th>\n",
       "      <th>Name</th>\n",
       "      <th>Platform</th>\n",
       "      <th>Year</th>\n",
       "      <th>Genre</th>\n",
       "      <th>Publisher</th>\n",
       "      <th>NA_Sales</th>\n",
       "      <th>EU_Sales</th>\n",
       "      <th>JP_Sales</th>\n",
       "      <th>Other_Sales</th>\n",
       "      <th>Global_Sales</th>\n",
       "    </tr>\n",
       "  </thead>\n",
       "  <tbody>\n",
       "    <tr>\n",
       "      <th>6113</th>\n",
       "      <td>1</td>\n",
       "      <td>Wii Sports</td>\n",
       "      <td>Wii</td>\n",
       "      <td>2006.0</td>\n",
       "      <td>Sports</td>\n",
       "      <td>Nintendo</td>\n",
       "      <td>41.49</td>\n",
       "      <td>29.02</td>\n",
       "      <td>3.77</td>\n",
       "      <td>8.46</td>\n",
       "      <td>82.74</td>\n",
       "    </tr>\n",
       "  </tbody>\n",
       "</table>\n",
       "</div>"
      ],
      "text/plain": [
       "      Rank        Name Platform    Year   Genre Publisher  NA_Sales  EU_Sales  \\\n",
       "6113     1  Wii Sports      Wii  2006.0  Sports  Nintendo     41.49     29.02   \n",
       "\n",
       "      JP_Sales  Other_Sales  Global_Sales  \n",
       "6113      3.77         8.46         82.74  "
      ]
     },
     "execution_count": 14,
     "metadata": {},
     "output_type": "execute_result"
    }
   ],
   "source": [
    "file.loc[(file.Platform == 'Wii'   ) & (file.Global_Sales >82) ]\n",
    "#from below table we have Nintendo with over 82.74 sales , we think that data is accurate as Na_sales and Eu sales is not that soo far . \n",
    "# over the web Nintendo is deleveopled as new video games generation so it may be have that impact , what ever lets go with other platforms "
   ]
  },
  {
   "cell_type": "code",
   "execution_count": 15,
   "id": "a3dcef04",
   "metadata": {
    "execution": {
     "iopub.execute_input": "2025-06-02T21:07:11.004825Z",
     "iopub.status.busy": "2025-06-02T21:07:11.003829Z",
     "iopub.status.idle": "2025-06-02T21:07:11.094881Z",
     "shell.execute_reply": "2025-06-02T21:07:11.093907Z"
    },
    "papermill": {
     "duration": 0.100059,
     "end_time": "2025-06-02T21:07:11.096718",
     "exception": false,
     "start_time": "2025-06-02T21:07:10.996659",
     "status": "completed"
    },
    "tags": []
   },
   "outputs": [
    {
     "data": {
      "text/html": [
       "<iframe\n",
       "    scrolling=\"no\"\n",
       "    width=\"100%\"\n",
       "    height=\"620\"\n",
       "    src=\"iframe_figures/figure_15.html\"\n",
       "    frameborder=\"0\"\n",
       "    allowfullscreen\n",
       "></iframe>\n"
      ]
     },
     "metadata": {},
     "output_type": "display_data"
    }
   ],
   "source": [
    "fig =  px.bar(data_frame=file[file['Platform'].isin(file.groupby(['Platform']).agg({'Global_Sales':'sum'}).sort_values(by='Global_Sales',ascending=False).head(10).reset_index()['Platform'].to_list())],x='Year',y='Global_Sales',color='Platform',barmode='overlay',height=600)\n",
    "fig.show(renderer='iframe_connected')\n",
    "# now we have more clear vision , ps have the most sales before the 2000 , from 2000 to 2005  we have competeion between ps2 and GPA , from 2005  to 2009 we can say Wii have the most sales maybe according to the next video games technology for sports games , from 2010 to 2014 \n",
    "# x 360  and ps3 have the biggest comptetion , after 2014 ps4 have the king situation . "
   ]
  },
  {
   "cell_type": "markdown",
   "id": "b6f4eb86",
   "metadata": {
    "papermill": {
     "duration": 0.005599,
     "end_time": "2025-06-02T21:07:11.108454",
     "exception": false,
     "start_time": "2025-06-02T21:07:11.102855",
     "status": "completed"
    },
    "tags": []
   },
   "source": [
    "# Rank and Sales Coorelation\n"
   ]
  },
  {
   "cell_type": "code",
   "execution_count": 16,
   "id": "47723da6",
   "metadata": {
    "execution": {
     "iopub.execute_input": "2025-06-02T21:07:11.122015Z",
     "iopub.status.busy": "2025-06-02T21:07:11.121043Z",
     "iopub.status.idle": "2025-06-02T21:07:11.178441Z",
     "shell.execute_reply": "2025-06-02T21:07:11.177372Z"
    },
    "papermill": {
     "duration": 0.066154,
     "end_time": "2025-06-02T21:07:11.180352",
     "exception": false,
     "start_time": "2025-06-02T21:07:11.114198",
     "status": "completed"
    },
    "tags": []
   },
   "outputs": [
    {
     "data": {
      "text/html": [
       "<iframe\n",
       "    scrolling=\"no\"\n",
       "    width=\"100%\"\n",
       "    height=\"545px\"\n",
       "    src=\"iframe_figures/figure_16.html\"\n",
       "    frameborder=\"0\"\n",
       "    allowfullscreen\n",
       "></iframe>\n"
      ]
     },
     "metadata": {},
     "output_type": "display_data"
    }
   ],
   "source": [
    "# lest check the rank and sales realtion . \n",
    "\n",
    "fig =  px.scatter(data_frame=file[file['Platform'].isin(file.groupby(['Platform']).agg({'Global_Sales':'sum'}).sort_values(by='Global_Sales',ascending=False).head(10).reset_index()['Platform'].to_list())],y='Global_Sales',x='Rank')\n",
    "fig.show(renderer='iframe_connected')\n",
    "# no relation between rank and total sales "
   ]
  },
  {
   "cell_type": "markdown",
   "id": "5fd0b453",
   "metadata": {
    "papermill": {
     "duration": 0.005473,
     "end_time": "2025-06-02T21:07:11.191968",
     "exception": false,
     "start_time": "2025-06-02T21:07:11.186495",
     "status": "completed"
    },
    "tags": []
   },
   "source": [
    "# Sales Across Regions"
   ]
  },
  {
   "cell_type": "code",
   "execution_count": 17,
   "id": "b07df643",
   "metadata": {
    "execution": {
     "iopub.execute_input": "2025-06-02T21:07:11.205424Z",
     "iopub.status.busy": "2025-06-02T21:07:11.205000Z",
     "iopub.status.idle": "2025-06-02T21:07:11.220651Z",
     "shell.execute_reply": "2025-06-02T21:07:11.219707Z"
    },
    "papermill": {
     "duration": 0.024984,
     "end_time": "2025-06-02T21:07:11.222574",
     "exception": false,
     "start_time": "2025-06-02T21:07:11.197590",
     "status": "completed"
    },
    "tags": []
   },
   "outputs": [
    {
     "data": {
      "text/html": [
       "<div>\n",
       "<style scoped>\n",
       "    .dataframe tbody tr th:only-of-type {\n",
       "        vertical-align: middle;\n",
       "    }\n",
       "\n",
       "    .dataframe tbody tr th {\n",
       "        vertical-align: top;\n",
       "    }\n",
       "\n",
       "    .dataframe thead th {\n",
       "        text-align: right;\n",
       "    }\n",
       "</style>\n",
       "<table border=\"1\" class=\"dataframe\">\n",
       "  <thead>\n",
       "    <tr style=\"text-align: right;\">\n",
       "      <th></th>\n",
       "      <th>Rank</th>\n",
       "      <th>Name</th>\n",
       "      <th>Platform</th>\n",
       "      <th>Year</th>\n",
       "      <th>Genre</th>\n",
       "      <th>Publisher</th>\n",
       "      <th>NA_Sales</th>\n",
       "      <th>EU_Sales</th>\n",
       "      <th>JP_Sales</th>\n",
       "      <th>Other_Sales</th>\n",
       "      <th>Global_Sales</th>\n",
       "    </tr>\n",
       "  </thead>\n",
       "  <tbody>\n",
       "    <tr>\n",
       "      <th>0</th>\n",
       "      <td>259</td>\n",
       "      <td>Asteroids</td>\n",
       "      <td>2600</td>\n",
       "      <td>1980.0</td>\n",
       "      <td>Shooter</td>\n",
       "      <td>Atari</td>\n",
       "      <td>4.00</td>\n",
       "      <td>0.26</td>\n",
       "      <td>0.0</td>\n",
       "      <td>0.05</td>\n",
       "      <td>4.31</td>\n",
       "    </tr>\n",
       "    <tr>\n",
       "      <th>1</th>\n",
       "      <td>545</td>\n",
       "      <td>Missile Command</td>\n",
       "      <td>2600</td>\n",
       "      <td>1980.0</td>\n",
       "      <td>Shooter</td>\n",
       "      <td>Atari</td>\n",
       "      <td>2.56</td>\n",
       "      <td>0.17</td>\n",
       "      <td>0.0</td>\n",
       "      <td>0.03</td>\n",
       "      <td>2.76</td>\n",
       "    </tr>\n",
       "    <tr>\n",
       "      <th>2</th>\n",
       "      <td>1768</td>\n",
       "      <td>Kaboom!</td>\n",
       "      <td>2600</td>\n",
       "      <td>1980.0</td>\n",
       "      <td>Misc</td>\n",
       "      <td>Activision</td>\n",
       "      <td>1.07</td>\n",
       "      <td>0.07</td>\n",
       "      <td>0.0</td>\n",
       "      <td>0.01</td>\n",
       "      <td>1.15</td>\n",
       "    </tr>\n",
       "    <tr>\n",
       "      <th>3</th>\n",
       "      <td>1971</td>\n",
       "      <td>Defender</td>\n",
       "      <td>2600</td>\n",
       "      <td>1980.0</td>\n",
       "      <td>Misc</td>\n",
       "      <td>Atari</td>\n",
       "      <td>0.99</td>\n",
       "      <td>0.05</td>\n",
       "      <td>0.0</td>\n",
       "      <td>0.01</td>\n",
       "      <td>1.05</td>\n",
       "    </tr>\n",
       "    <tr>\n",
       "      <th>4</th>\n",
       "      <td>2671</td>\n",
       "      <td>Boxing</td>\n",
       "      <td>2600</td>\n",
       "      <td>1980.0</td>\n",
       "      <td>Fighting</td>\n",
       "      <td>Activision</td>\n",
       "      <td>0.72</td>\n",
       "      <td>0.04</td>\n",
       "      <td>0.0</td>\n",
       "      <td>0.01</td>\n",
       "      <td>0.77</td>\n",
       "    </tr>\n",
       "  </tbody>\n",
       "</table>\n",
       "</div>"
      ],
      "text/plain": [
       "   Rank             Name Platform    Year     Genre   Publisher  NA_Sales  \\\n",
       "0   259        Asteroids     2600  1980.0   Shooter       Atari      4.00   \n",
       "1   545  Missile Command     2600  1980.0   Shooter       Atari      2.56   \n",
       "2  1768          Kaboom!     2600  1980.0      Misc  Activision      1.07   \n",
       "3  1971         Defender     2600  1980.0      Misc       Atari      0.99   \n",
       "4  2671           Boxing     2600  1980.0  Fighting  Activision      0.72   \n",
       "\n",
       "   EU_Sales  JP_Sales  Other_Sales  Global_Sales  \n",
       "0      0.26       0.0         0.05          4.31  \n",
       "1      0.17       0.0         0.03          2.76  \n",
       "2      0.07       0.0         0.01          1.15  \n",
       "3      0.05       0.0         0.01          1.05  \n",
       "4      0.04       0.0         0.01          0.77  "
      ]
     },
     "execution_count": 17,
     "metadata": {},
     "output_type": "execute_result"
    }
   ],
   "source": [
    "#lets check sales accross areas \n",
    "file.head()"
   ]
  },
  {
   "cell_type": "code",
   "execution_count": 18,
   "id": "44aee3d9",
   "metadata": {
    "execution": {
     "iopub.execute_input": "2025-06-02T21:07:11.236576Z",
     "iopub.status.busy": "2025-06-02T21:07:11.236201Z",
     "iopub.status.idle": "2025-06-02T21:07:11.263011Z",
     "shell.execute_reply": "2025-06-02T21:07:11.262175Z"
    },
    "papermill": {
     "duration": 0.035879,
     "end_time": "2025-06-02T21:07:11.264916",
     "exception": false,
     "start_time": "2025-06-02T21:07:11.229037",
     "status": "completed"
    },
    "tags": []
   },
   "outputs": [],
   "source": [
    "newfile =  pd.melt(file,id_vars=['Platform','Year'],value_vars=['NA_Sales','EU_Sales','JP_Sales','Other_Sales'],value_name='sales',var_name='Region')\n"
   ]
  },
  {
   "cell_type": "code",
   "execution_count": 19,
   "id": "1bd52f45",
   "metadata": {
    "execution": {
     "iopub.execute_input": "2025-06-02T21:07:11.279470Z",
     "iopub.status.busy": "2025-06-02T21:07:11.278348Z",
     "iopub.status.idle": "2025-06-02T21:07:11.354062Z",
     "shell.execute_reply": "2025-06-02T21:07:11.353164Z"
    },
    "papermill": {
     "duration": 0.084746,
     "end_time": "2025-06-02T21:07:11.355746",
     "exception": false,
     "start_time": "2025-06-02T21:07:11.271000",
     "status": "completed"
    },
    "tags": []
   },
   "outputs": [
    {
     "data": {
      "text/html": [
       "<iframe\n",
       "    scrolling=\"no\"\n",
       "    width=\"1020px\"\n",
       "    height=\"545px\"\n",
       "    src=\"iframe_figures/figure_19.html\"\n",
       "    frameborder=\"0\"\n",
       "    allowfullscreen\n",
       "></iframe>\n"
      ]
     },
     "metadata": {},
     "output_type": "display_data"
    }
   ],
   "source": [
    "fig =  px.imshow(file[['NA_Sales','EU_Sales','JP_Sales','Other_Sales']].corr(),width=1000)\n",
    "fig.show(renderer='iframe_connected')\n",
    "# Eu Sales And NA Sales Have Got Good Correlation lets check with scatter "
   ]
  },
  {
   "cell_type": "markdown",
   "id": "2515ae02",
   "metadata": {
    "papermill": {
     "duration": 0.005652,
     "end_time": "2025-06-02T21:07:11.367542",
     "exception": false,
     "start_time": "2025-06-02T21:07:11.361890",
     "status": "completed"
    },
    "tags": []
   },
   "source": [
    "# Genres Analysis "
   ]
  },
  {
   "cell_type": "code",
   "execution_count": 20,
   "id": "53fd9800",
   "metadata": {
    "execution": {
     "iopub.execute_input": "2025-06-02T21:07:11.380884Z",
     "iopub.status.busy": "2025-06-02T21:07:11.380536Z",
     "iopub.status.idle": "2025-06-02T21:07:11.465002Z",
     "shell.execute_reply": "2025-06-02T21:07:11.463951Z"
    },
    "papermill": {
     "duration": 0.093536,
     "end_time": "2025-06-02T21:07:11.467036",
     "exception": false,
     "start_time": "2025-06-02T21:07:11.373500",
     "status": "completed"
    },
    "tags": []
   },
   "outputs": [
    {
     "data": {
      "text/html": [
       "<iframe\n",
       "    scrolling=\"no\"\n",
       "    width=\"100%\"\n",
       "    height=\"545px\"\n",
       "    src=\"iframe_figures/figure_20.html\"\n",
       "    frameborder=\"0\"\n",
       "    allowfullscreen\n",
       "></iframe>\n"
      ]
     },
     "metadata": {},
     "output_type": "display_data"
    }
   ],
   "source": [
    "#lets go the next step for genre Analysis \n",
    "fig =  px.line(data_frame=file,x='Year',y='Global_Sales',color='Genre')\n",
    "fig.show(renderer='iframe_connected')\n",
    "# Okay We Can See greate jump in shoorter games at 1984 at that was age of simulation using shooting tools , then was the age of plaotform games like super mario or somting we can deep in next step to check in this areas , then we have sport games in 2005 and 2006 the was goldedn \n",
    "# age of fifa and pes across all platforms even PC \n"
   ]
  }
 ],
 "metadata": {
  "kaggle": {
   "accelerator": "none",
   "dataSources": [
    {
     "datasetId": 6449347,
     "sourceId": 10407294,
     "sourceType": "datasetVersion"
    }
   ],
   "dockerImageVersionId": 31040,
   "isGpuEnabled": false,
   "isInternetEnabled": true,
   "language": "python",
   "sourceType": "notebook"
  },
  "kernelspec": {
   "display_name": "Python 3",
   "language": "python",
   "name": "python3"
  },
  "language_info": {
   "codemirror_mode": {
    "name": "ipython",
    "version": 3
   },
   "file_extension": ".py",
   "mimetype": "text/x-python",
   "name": "python",
   "nbconvert_exporter": "python",
   "pygments_lexer": "ipython3",
   "version": "3.11.11"
  },
  "papermill": {
   "default_parameters": {},
   "duration": 14.189231,
   "end_time": "2025-06-02T21:07:12.496938",
   "environment_variables": {},
   "exception": null,
   "input_path": "__notebook__.ipynb",
   "output_path": "__notebook__.ipynb",
   "parameters": {},
   "start_time": "2025-06-02T21:06:58.307707",
   "version": "2.6.0"
  }
 },
 "nbformat": 4,
 "nbformat_minor": 5
}
