{
 "cells": [
  {
   "cell_type": "code",
   "execution_count": 1,
   "id": "6ab82eb3",
   "metadata": {
    "execution": {
     "iopub.execute_input": "2025-06-08T07:56:45.778305Z",
     "iopub.status.busy": "2025-06-08T07:56:45.777996Z",
     "iopub.status.idle": "2025-06-08T07:56:48.498315Z",
     "shell.execute_reply": "2025-06-08T07:56:48.497150Z"
    },
    "papermill": {
     "duration": 2.726164,
     "end_time": "2025-06-08T07:56:48.499867",
     "exception": false,
     "start_time": "2025-06-08T07:56:45.773703",
     "status": "completed"
    },
    "tags": []
   },
   "outputs": [
    {
     "name": "stderr",
     "output_type": "stream",
     "text": [
      "/tmp/ipykernel_13/4094406516.py:10: DeprecationWarning: load_dataset is deprecated and will be removed in a future version.\n",
      "  df = kagglehub.load_dataset(\n"
     ]
    },
    {
     "name": "stdout",
     "output_type": "stream",
     "text": [
      "First 5 records:                                              img                        title  \\\n",
      "0  /games/boxart/full_6510540AmericaFrontccc.jpg           Grand Theft Auto V   \n",
      "1  /games/boxart/full_5563178AmericaFrontccc.jpg           Grand Theft Auto V   \n",
      "2                    /games/boxart/827563ccc.jpg  Grand Theft Auto: Vice City   \n",
      "3  /games/boxart/full_9218923AmericaFrontccc.jpg           Grand Theft Auto V   \n",
      "4  /games/boxart/full_4990510AmericaFrontccc.jpg    Call of Duty: Black Ops 3   \n",
      "\n",
      "  console    genre       publisher       developer  critic_score  total_sales  \\\n",
      "0     PS3   Action  Rockstar Games  Rockstar North           9.4        20.32   \n",
      "1     PS4   Action  Rockstar Games  Rockstar North           9.7        19.39   \n",
      "2     PS2   Action  Rockstar Games  Rockstar North           9.6        16.15   \n",
      "3    X360   Action  Rockstar Games  Rockstar North           NaN        15.86   \n",
      "4     PS4  Shooter      Activision        Treyarch           8.1        15.09   \n",
      "\n",
      "   na_sales  jp_sales  pal_sales  other_sales release_date last_update  \n",
      "0      6.37      0.99       9.85         3.12   2013-09-17         NaN  \n",
      "1      6.06      0.60       9.71         3.02   2014-11-18  2018-01-03  \n",
      "2      8.41      0.47       5.49         1.78   2002-10-28         NaN  \n",
      "3      9.06      0.06       5.33         1.42   2013-09-17         NaN  \n",
      "4      6.18      0.41       6.05         2.44   2015-11-06  2018-01-14  \n"
     ]
    },
    {
     "name": "stderr",
     "output_type": "stream",
     "text": [
      "/usr/local/lib/python3.11/dist-packages/pandas/io/formats/format.py:1458: RuntimeWarning: invalid value encountered in greater\n",
      "  has_large_values = (abs_vals > 1e6).any()\n",
      "/usr/local/lib/python3.11/dist-packages/pandas/io/formats/format.py:1459: RuntimeWarning: invalid value encountered in less\n",
      "  has_small_values = ((abs_vals < 10 ** (-self.digits)) & (abs_vals > 0)).any()\n",
      "/usr/local/lib/python3.11/dist-packages/pandas/io/formats/format.py:1459: RuntimeWarning: invalid value encountered in greater\n",
      "  has_small_values = ((abs_vals < 10 ** (-self.digits)) & (abs_vals > 0)).any()\n"
     ]
    }
   ],
   "source": [
    "# Install dependencies as needed:\n",
    "# pip install kagglehub[pandas-datasets]\n",
    "import kagglehub\n",
    "from kagglehub import KaggleDatasetAdapter\n",
    "\n",
    "# Set the path to the file you'd like to load\n",
    "file_path = \"vgchartz-2024.csv\"\n",
    "\n",
    "# Load the latest version\n",
    "df = kagglehub.load_dataset(\n",
    "  KaggleDatasetAdapter.PANDAS,\n",
    "  \"siddharth0935/video-game-sales\",\n",
    "  file_path,\n",
    "  # Provide any additional arguments like \n",
    "  # sql_query or pandas_kwargs. See the \n",
    "  # documenation for more information:\n",
    "  # https://github.com/Kaggle/kagglehub/blob/main/README.md#kaggledatasetadapterpandas\n",
    ")\n",
    "\n",
    "print(\"First 5 records:\", df.head())"
   ]
  },
  {
   "cell_type": "code",
   "execution_count": 2,
   "id": "57bf00f7",
   "metadata": {
    "execution": {
     "iopub.execute_input": "2025-06-08T07:56:48.507392Z",
     "iopub.status.busy": "2025-06-08T07:56:48.506662Z",
     "iopub.status.idle": "2025-06-08T07:56:48.973517Z",
     "shell.execute_reply": "2025-06-08T07:56:48.972357Z"
    },
    "papermill": {
     "duration": 0.471834,
     "end_time": "2025-06-08T07:56:48.974951",
     "exception": false,
     "start_time": "2025-06-08T07:56:48.503117",
     "status": "completed"
    },
    "tags": []
   },
   "outputs": [
    {
     "name": "stderr",
     "output_type": "stream",
     "text": [
      "/tmp/ipykernel_13/350160268.py:10: DeprecationWarning: load_dataset is deprecated and will be removed in a future version.\n",
      "  det = kagglehub.load_dataset(\n"
     ]
    },
    {
     "name": "stdout",
     "output_type": "stream",
     "text": [
      "First 5 records:                                              img                        title  \\\n",
      "0  /games/boxart/full_6510540AmericaFrontccc.jpg           Grand Theft Auto V   \n",
      "1  /games/boxart/full_5563178AmericaFrontccc.jpg           Grand Theft Auto V   \n",
      "2                    /games/boxart/827563ccc.jpg  Grand Theft Auto: Vice City   \n",
      "3  /games/boxart/full_9218923AmericaFrontccc.jpg           Grand Theft Auto V   \n",
      "4  /games/boxart/full_4990510AmericaFrontccc.jpg    Call of Duty: Black Ops 3   \n",
      "\n",
      "  console    genre       publisher       developer  critic_score  total_sales  \\\n",
      "0     PS3   Action  Rockstar Games  Rockstar North           9.4        20.32   \n",
      "1     PS4   Action  Rockstar Games  Rockstar North           9.7        19.39   \n",
      "2     PS2   Action  Rockstar Games  Rockstar North           9.6        16.15   \n",
      "3    X360   Action  Rockstar Games  Rockstar North           NaN        15.86   \n",
      "4     PS4  Shooter      Activision        Treyarch           8.1        15.09   \n",
      "\n",
      "   na_sales  jp_sales  pal_sales  other_sales release_date last_update  \n",
      "0      6.37      0.99       9.85         3.12   2013-09-17         NaN  \n",
      "1      6.06      0.60       9.71         3.02   2014-11-18  2018-01-03  \n",
      "2      8.41      0.47       5.49         1.78   2002-10-28         NaN  \n",
      "3      9.06      0.06       5.33         1.42   2013-09-17         NaN  \n",
      "4      6.18      0.41       6.05         2.44   2015-11-06  2018-01-14  \n"
     ]
    },
    {
     "name": "stderr",
     "output_type": "stream",
     "text": [
      "/usr/local/lib/python3.11/dist-packages/pandas/io/formats/format.py:1458: RuntimeWarning: invalid value encountered in greater\n",
      "  has_large_values = (abs_vals > 1e6).any()\n",
      "/usr/local/lib/python3.11/dist-packages/pandas/io/formats/format.py:1459: RuntimeWarning: invalid value encountered in less\n",
      "  has_small_values = ((abs_vals < 10 ** (-self.digits)) & (abs_vals > 0)).any()\n",
      "/usr/local/lib/python3.11/dist-packages/pandas/io/formats/format.py:1459: RuntimeWarning: invalid value encountered in greater\n",
      "  has_small_values = ((abs_vals < 10 ** (-self.digits)) & (abs_vals > 0)).any()\n"
     ]
    }
   ],
   "source": [
    "# Install dependencies as needed:\n",
    "# pip install kagglehub[pandas-datasets]\n",
    "import kagglehub\n",
    "from kagglehub import KaggleDatasetAdapter\n",
    "\n",
    "# Set the path to the file you'd like to load\n",
    "file_path = \"vg_data_dictionary.csv\"\n",
    "\n",
    "# Load the latest version\n",
    "det = kagglehub.load_dataset(\n",
    "  KaggleDatasetAdapter.PANDAS,\n",
    "  \"siddharth0935/video-game-sales\",\n",
    "  file_path,\n",
    "  # Provide any additional arguments like \n",
    "  # sql_query or pandas_kwargs. See the \n",
    "  # documenation for more information:\n",
    "  # https://github.com/Kaggle/kagglehub/blob/main/README.md#kaggledatasetadapterpandas\n",
    ")\n",
    "\n",
    "print(\"First 5 records:\", df.head())"
   ]
  },
  {
   "cell_type": "code",
   "execution_count": 3,
   "id": "c5867e2a",
   "metadata": {
    "execution": {
     "iopub.execute_input": "2025-06-08T07:56:48.982156Z",
     "iopub.status.busy": "2025-06-08T07:56:48.981871Z",
     "iopub.status.idle": "2025-06-08T07:56:49.026179Z",
     "shell.execute_reply": "2025-06-08T07:56:49.025434Z"
    },
    "papermill": {
     "duration": 0.049697,
     "end_time": "2025-06-08T07:56:49.027749",
     "exception": false,
     "start_time": "2025-06-08T07:56:48.978052",
     "status": "completed"
    },
    "tags": []
   },
   "outputs": [],
   "source": [
    "# Generating year column from data set and drop Null Values \n",
    "import pandas as pd \n",
    "df =  pd.DataFrame(df)\n",
    "df =  df.dropna()\n",
    "df['release_date'] =  pd.to_datetime(df['release_date'])\n",
    "import datetime as dt \n",
    "df['year'] =  df['release_date'].dt.year"
   ]
  },
  {
   "cell_type": "markdown",
   "id": "e3774963",
   "metadata": {
    "papermill": {
     "duration": 0.002769,
     "end_time": "2025-06-08T07:56:49.033735",
     "exception": false,
     "start_time": "2025-06-08T07:56:49.030966",
     "status": "completed"
    },
    "tags": []
   },
   "source": [
    "# Which year had the highest sales? Has the industry grown over time?"
   ]
  },
  {
   "cell_type": "code",
   "execution_count": 4,
   "id": "691af0f1",
   "metadata": {
    "execution": {
     "iopub.execute_input": "2025-06-08T07:56:49.040746Z",
     "iopub.status.busy": "2025-06-08T07:56:49.040403Z",
     "iopub.status.idle": "2025-06-08T07:56:51.866774Z",
     "shell.execute_reply": "2025-06-08T07:56:51.865884Z"
    },
    "papermill": {
     "duration": 2.831702,
     "end_time": "2025-06-08T07:56:51.868298",
     "exception": false,
     "start_time": "2025-06-08T07:56:49.036596",
     "status": "completed"
    },
    "tags": []
   },
   "outputs": [
    {
     "data": {
      "text/html": [
       "<iframe\n",
       "    scrolling=\"no\"\n",
       "    width=\"100%\"\n",
       "    height=\"545px\"\n",
       "    src=\"iframe_figures/figure_4.html\"\n",
       "    frameborder=\"0\"\n",
       "    allowfullscreen\n",
       "></iframe>\n"
      ]
     },
     "metadata": {},
     "output_type": "display_data"
    },
    {
     "data": {
      "text/html": [
       "<div>\n",
       "<style scoped>\n",
       "    .dataframe tbody tr th:only-of-type {\n",
       "        vertical-align: middle;\n",
       "    }\n",
       "\n",
       "    .dataframe tbody tr th {\n",
       "        vertical-align: top;\n",
       "    }\n",
       "\n",
       "    .dataframe thead th {\n",
       "        text-align: right;\n",
       "    }\n",
       "</style>\n",
       "<table border=\"1\" class=\"dataframe\">\n",
       "  <thead>\n",
       "    <tr style=\"text-align: right;\">\n",
       "      <th></th>\n",
       "      <th>year</th>\n",
       "      <th>total_sales</th>\n",
       "    </tr>\n",
       "  </thead>\n",
       "  <tbody>\n",
       "    <tr>\n",
       "      <th>12</th>\n",
       "      <td>2014</td>\n",
       "      <td>90.56</td>\n",
       "    </tr>\n",
       "    <tr>\n",
       "      <th>13</th>\n",
       "      <td>2015</td>\n",
       "      <td>77.49</td>\n",
       "    </tr>\n",
       "    <tr>\n",
       "      <th>11</th>\n",
       "      <td>2013</td>\n",
       "      <td>70.90</td>\n",
       "    </tr>\n",
       "    <tr>\n",
       "      <th>14</th>\n",
       "      <td>2016</td>\n",
       "      <td>66.84</td>\n",
       "    </tr>\n",
       "    <tr>\n",
       "      <th>10</th>\n",
       "      <td>2012</td>\n",
       "      <td>59.93</td>\n",
       "    </tr>\n",
       "    <tr>\n",
       "      <th>15</th>\n",
       "      <td>2017</td>\n",
       "      <td>55.07</td>\n",
       "    </tr>\n",
       "    <tr>\n",
       "      <th>16</th>\n",
       "      <td>2018</td>\n",
       "      <td>42.98</td>\n",
       "    </tr>\n",
       "    <tr>\n",
       "      <th>9</th>\n",
       "      <td>2011</td>\n",
       "      <td>24.28</td>\n",
       "    </tr>\n",
       "    <tr>\n",
       "      <th>8</th>\n",
       "      <td>2010</td>\n",
       "      <td>12.22</td>\n",
       "    </tr>\n",
       "    <tr>\n",
       "      <th>6</th>\n",
       "      <td>2008</td>\n",
       "      <td>10.48</td>\n",
       "    </tr>\n",
       "    <tr>\n",
       "      <th>7</th>\n",
       "      <td>2009</td>\n",
       "      <td>9.09</td>\n",
       "    </tr>\n",
       "    <tr>\n",
       "      <th>1</th>\n",
       "      <td>2001</td>\n",
       "      <td>3.78</td>\n",
       "    </tr>\n",
       "    <tr>\n",
       "      <th>0</th>\n",
       "      <td>1999</td>\n",
       "      <td>1.63</td>\n",
       "    </tr>\n",
       "    <tr>\n",
       "      <th>2</th>\n",
       "      <td>2003</td>\n",
       "      <td>1.60</td>\n",
       "    </tr>\n",
       "    <tr>\n",
       "      <th>5</th>\n",
       "      <td>2007</td>\n",
       "      <td>0.95</td>\n",
       "    </tr>\n",
       "    <tr>\n",
       "      <th>4</th>\n",
       "      <td>2006</td>\n",
       "      <td>0.39</td>\n",
       "    </tr>\n",
       "    <tr>\n",
       "      <th>3</th>\n",
       "      <td>2004</td>\n",
       "      <td>0.32</td>\n",
       "    </tr>\n",
       "  </tbody>\n",
       "</table>\n",
       "</div>"
      ],
      "text/plain": [
       "    year  total_sales\n",
       "12  2014        90.56\n",
       "13  2015        77.49\n",
       "11  2013        70.90\n",
       "14  2016        66.84\n",
       "10  2012        59.93\n",
       "15  2017        55.07\n",
       "16  2018        42.98\n",
       "9   2011        24.28\n",
       "8   2010        12.22\n",
       "6   2008        10.48\n",
       "7   2009         9.09\n",
       "1   2001         3.78\n",
       "0   1999         1.63\n",
       "2   2003         1.60\n",
       "5   2007         0.95\n",
       "4   2006         0.39\n",
       "3   2004         0.32"
      ]
     },
     "execution_count": 4,
     "metadata": {},
     "output_type": "execute_result"
    }
   ],
   "source": [
    "import plotly.express  as px\n",
    "\n",
    "highyeargraph =  px.bar(data_frame=df , x='year',y='total_sales')\n",
    "highyeargraph.show(renderer='iframe_connected')\n",
    "df.groupby(['year']).agg({'total_sales':'sum'}).reset_index().sort_values(by='total_sales',ascending=False)\n",
    "\n",
    "# we can say highest sales at 2014 then 2015 , lets checknext with timeline to see the industry growth "
   ]
  },
  {
   "cell_type": "code",
   "execution_count": 5,
   "id": "57a42629",
   "metadata": {
    "execution": {
     "iopub.execute_input": "2025-06-08T07:56:51.876411Z",
     "iopub.status.busy": "2025-06-08T07:56:51.876036Z",
     "iopub.status.idle": "2025-06-08T07:56:51.951284Z",
     "shell.execute_reply": "2025-06-08T07:56:51.950410Z"
    },
    "papermill": {
     "duration": 0.081148,
     "end_time": "2025-06-08T07:56:51.952852",
     "exception": false,
     "start_time": "2025-06-08T07:56:51.871704",
     "status": "completed"
    },
    "tags": []
   },
   "outputs": [
    {
     "data": {
      "text/html": [
       "<iframe\n",
       "    scrolling=\"no\"\n",
       "    width=\"100%\"\n",
       "    height=\"545px\"\n",
       "    src=\"iframe_figures/figure_5.html\"\n",
       "    frameborder=\"0\"\n",
       "    allowfullscreen\n",
       "></iframe>\n"
      ]
     },
     "metadata": {},
     "output_type": "display_data"
    }
   ],
   "source": [
    "salestrendgrapgh =  px.area(data_frame=df , x='year',y='total_sales')\n",
    "salestrendgrapgh.show(renderer='iframe_connected')\n",
    "# can see the growth is not as we expected in sales \n"
   ]
  },
  {
   "cell_type": "markdown",
   "id": "037c075f",
   "metadata": {
    "papermill": {
     "duration": 0.003242,
     "end_time": "2025-06-08T07:56:51.959668",
     "exception": false,
     "start_time": "2025-06-08T07:56:51.956426",
     "status": "completed"
    },
    "tags": []
   },
   "source": [
    "# Do any consoles seem to specialize in a particular genre?"
   ]
  },
  {
   "cell_type": "code",
   "execution_count": 6,
   "id": "9648272b",
   "metadata": {
    "execution": {
     "iopub.execute_input": "2025-06-08T07:56:51.967562Z",
     "iopub.status.busy": "2025-06-08T07:56:51.967255Z",
     "iopub.status.idle": "2025-06-08T07:56:51.978091Z",
     "shell.execute_reply": "2025-06-08T07:56:51.977371Z"
    },
    "papermill": {
     "duration": 0.016427,
     "end_time": "2025-06-08T07:56:51.979548",
     "exception": false,
     "start_time": "2025-06-08T07:56:51.963121",
     "status": "completed"
    },
    "tags": []
   },
   "outputs": [],
   "source": [
    "# lets check count of games for all consoles per genre after dropping duplicates \n",
    "cleardf  =  df.drop_duplicates()"
   ]
  },
  {
   "cell_type": "code",
   "execution_count": 7,
   "id": "dc5b4283",
   "metadata": {
    "execution": {
     "iopub.execute_input": "2025-06-08T07:56:51.987409Z",
     "iopub.status.busy": "2025-06-08T07:56:51.987106Z",
     "iopub.status.idle": "2025-06-08T07:56:52.137871Z",
     "shell.execute_reply": "2025-06-08T07:56:52.136963Z"
    },
    "papermill": {
     "duration": 0.156485,
     "end_time": "2025-06-08T07:56:52.139568",
     "exception": false,
     "start_time": "2025-06-08T07:56:51.983083",
     "status": "completed"
    },
    "tags": []
   },
   "outputs": [
    {
     "data": {
      "text/html": [
       "<iframe\n",
       "    scrolling=\"no\"\n",
       "    width=\"100%\"\n",
       "    height=\"420\"\n",
       "    src=\"iframe_figures/figure_7.html\"\n",
       "    frameborder=\"0\"\n",
       "    allowfullscreen\n",
       "></iframe>\n"
      ]
     },
     "metadata": {},
     "output_type": "display_data"
    },
    {
     "data": {
      "text/html": [
       "<div>\n",
       "<style scoped>\n",
       "    .dataframe tbody tr th:only-of-type {\n",
       "        vertical-align: middle;\n",
       "    }\n",
       "\n",
       "    .dataframe tbody tr th {\n",
       "        vertical-align: top;\n",
       "    }\n",
       "\n",
       "    .dataframe thead th {\n",
       "        text-align: right;\n",
       "    }\n",
       "</style>\n",
       "<table border=\"1\" class=\"dataframe\">\n",
       "  <thead>\n",
       "    <tr style=\"text-align: right;\">\n",
       "      <th></th>\n",
       "      <th>console</th>\n",
       "      <th>genre</th>\n",
       "      <th>count</th>\n",
       "    </tr>\n",
       "  </thead>\n",
       "  <tbody>\n",
       "    <tr>\n",
       "      <th>8</th>\n",
       "      <td>3DS</td>\n",
       "      <td>Role-Playing</td>\n",
       "      <td>17</td>\n",
       "    </tr>\n",
       "    <tr>\n",
       "      <th>52</th>\n",
       "      <td>PS4</td>\n",
       "      <td>Shooter</td>\n",
       "      <td>15</td>\n",
       "    </tr>\n",
       "    <tr>\n",
       "      <th>45</th>\n",
       "      <td>PS4</td>\n",
       "      <td>Action-Adventure</td>\n",
       "      <td>12</td>\n",
       "    </tr>\n",
       "    <tr>\n",
       "      <th>79</th>\n",
       "      <td>X360</td>\n",
       "      <td>Shooter</td>\n",
       "      <td>10</td>\n",
       "    </tr>\n",
       "    <tr>\n",
       "      <th>51</th>\n",
       "      <td>PS4</td>\n",
       "      <td>Role-Playing</td>\n",
       "      <td>9</td>\n",
       "    </tr>\n",
       "    <tr>\n",
       "      <th>...</th>\n",
       "      <td>...</td>\n",
       "      <td>...</td>\n",
       "      <td>...</td>\n",
       "    </tr>\n",
       "    <tr>\n",
       "      <th>46</th>\n",
       "      <td>PS4</td>\n",
       "      <td>Adventure</td>\n",
       "      <td>1</td>\n",
       "    </tr>\n",
       "    <tr>\n",
       "      <th>31</th>\n",
       "      <td>PS2</td>\n",
       "      <td>Strategy</td>\n",
       "      <td>1</td>\n",
       "    </tr>\n",
       "    <tr>\n",
       "      <th>66</th>\n",
       "      <td>WiiU</td>\n",
       "      <td>Racing</td>\n",
       "      <td>1</td>\n",
       "    </tr>\n",
       "    <tr>\n",
       "      <th>24</th>\n",
       "      <td>NS</td>\n",
       "      <td>Simulation</td>\n",
       "      <td>1</td>\n",
       "    </tr>\n",
       "    <tr>\n",
       "      <th>34</th>\n",
       "      <td>PS3</td>\n",
       "      <td>Adventure</td>\n",
       "      <td>1</td>\n",
       "    </tr>\n",
       "  </tbody>\n",
       "</table>\n",
       "<p>88 rows × 3 columns</p>\n",
       "</div>"
      ],
      "text/plain": [
       "   console             genre  count\n",
       "8      3DS      Role-Playing     17\n",
       "52     PS4           Shooter     15\n",
       "45     PS4  Action-Adventure     12\n",
       "79    X360           Shooter     10\n",
       "51     PS4      Role-Playing      9\n",
       "..     ...               ...    ...\n",
       "46     PS4         Adventure      1\n",
       "31     PS2          Strategy      1\n",
       "66    WiiU            Racing      1\n",
       "24      NS        Simulation      1\n",
       "34     PS3         Adventure      1\n",
       "\n",
       "[88 rows x 3 columns]"
      ]
     },
     "execution_count": 7,
     "metadata": {},
     "output_type": "execute_result"
    }
   ],
   "source": [
    "specgraph =  px.histogram(data_frame=cleardf,y='console',color='genre',orientation='h',height=400)\n",
    "specgraph.show(renderer='iframe_connected')\n",
    "# as below plot 3ds comes in the first place with role_playing games , then ps4 comes with shooter games , check below table for more info\n",
    "cleardf.groupby(['console','genre']).agg({'genre':'count'}).rename(columns={'genre':'count'}).reset_index().sort_values(by='count',ascending=False)"
   ]
  },
  {
   "cell_type": "markdown",
   "id": "add2f7b6",
   "metadata": {
    "papermill": {
     "duration": 0.003305,
     "end_time": "2025-06-08T07:56:52.146624",
     "exception": false,
     "start_time": "2025-06-08T07:56:52.143319",
     "status": "completed"
    },
    "tags": []
   },
   "source": [
    "# What titles are popular in one region but flop in another?"
   ]
  },
  {
   "cell_type": "code",
   "execution_count": 8,
   "id": "8ee11d39",
   "metadata": {
    "execution": {
     "iopub.execute_input": "2025-06-08T07:56:52.154793Z",
     "iopub.status.busy": "2025-06-08T07:56:52.154442Z",
     "iopub.status.idle": "2025-06-08T07:56:52.165258Z",
     "shell.execute_reply": "2025-06-08T07:56:52.164528Z"
    },
    "papermill": {
     "duration": 0.016776,
     "end_time": "2025-06-08T07:56:52.166829",
     "exception": false,
     "start_time": "2025-06-08T07:56:52.150053",
     "status": "completed"
    },
    "tags": []
   },
   "outputs": [],
   "source": [
    "# we create 3 data frames to compare every area sales with other areas \n",
    "combine_df =  df.groupby(['title']).agg({'na_sales':'sum','jp_sales':'sum','pal_sales':'sum'}).reset_index()\n",
    "pop_in_na =  combine_df.loc[    (combine_df['na_sales']>combine_df['jp_sales'])  & (combine_df['na_sales']>combine_df['pal_sales'])        ]\n",
    "pop_in_japan  = combine_df.loc[    (combine_df['jp_sales']>combine_df['na_sales'])  & (combine_df['jp_sales']>combine_df['pal_sales'])        ]\n",
    "pop_in_Pal =  combine_df.loc[    (combine_df['pal_sales']>combine_df['na_sales'])  & (combine_df['pal_sales']>combine_df['jp_sales'])        ]"
   ]
  },
  {
   "cell_type": "code",
   "execution_count": 9,
   "id": "eb3c8346",
   "metadata": {
    "execution": {
     "iopub.execute_input": "2025-06-08T07:56:52.175185Z",
     "iopub.status.busy": "2025-06-08T07:56:52.174871Z",
     "iopub.status.idle": "2025-06-08T07:56:52.294940Z",
     "shell.execute_reply": "2025-06-08T07:56:52.293975Z"
    },
    "papermill": {
     "duration": 0.125964,
     "end_time": "2025-06-08T07:56:52.296464",
     "exception": false,
     "start_time": "2025-06-08T07:56:52.170500",
     "status": "completed"
    },
    "tags": []
   },
   "outputs": [
    {
     "data": {
      "text/html": [
       "<iframe\n",
       "    scrolling=\"no\"\n",
       "    width=\"100%\"\n",
       "    height=\"545px\"\n",
       "    src=\"iframe_figures/figure_9.html\"\n",
       "    frameborder=\"0\"\n",
       "    allowfullscreen\n",
       "></iframe>\n"
      ]
     },
     "metadata": {},
     "output_type": "display_data"
    },
    {
     "data": {
      "text/html": [
       "<iframe\n",
       "    scrolling=\"no\"\n",
       "    width=\"100%\"\n",
       "    height=\"545px\"\n",
       "    src=\"iframe_figures/figure_9.html\"\n",
       "    frameborder=\"0\"\n",
       "    allowfullscreen\n",
       "></iframe>\n"
      ]
     },
     "metadata": {},
     "output_type": "display_data"
    },
    {
     "data": {
      "text/html": [
       "<iframe\n",
       "    scrolling=\"no\"\n",
       "    width=\"100%\"\n",
       "    height=\"545px\"\n",
       "    src=\"iframe_figures/figure_9.html\"\n",
       "    frameborder=\"0\"\n",
       "    allowfullscreen\n",
       "></iframe>\n"
      ]
     },
     "metadata": {},
     "output_type": "display_data"
    }
   ],
   "source": [
    "# now we can grapgh \n",
    "graphlist =  [pop_in_na,pop_in_japan,pop_in_Pal]\n",
    "graphlist =  {'Poploar In North America ':pop_in_na,'Popular In Japan':pop_in_japan,'Poplular In Pal ':pop_in_Pal}\n",
    "for name,g in graphlist.items():\n",
    "    graph =  px.histogram(data_frame=g,y='title',title=name)\n",
    "    graph.show(renderer='iframe_connected')"
   ]
  }
 ],
 "metadata": {
  "kaggle": {
   "accelerator": "none",
   "dataSources": [
    {
     "datasetId": 7585872,
     "sourceId": 12053570,
     "sourceType": "datasetVersion"
    }
   ],
   "dockerImageVersionId": 31040,
   "isGpuEnabled": false,
   "isInternetEnabled": true,
   "language": "python",
   "sourceType": "notebook"
  },
  "kernelspec": {
   "display_name": "Python 3",
   "language": "python",
   "name": "python3"
  },
  "language_info": {
   "codemirror_mode": {
    "name": "ipython",
    "version": 3
   },
   "file_extension": ".py",
   "mimetype": "text/x-python",
   "name": "python",
   "nbconvert_exporter": "python",
   "pygments_lexer": "ipython3",
   "version": "3.11.11"
  },
  "papermill": {
   "default_parameters": {},
   "duration": 11.800001,
   "end_time": "2025-06-08T07:56:53.019916",
   "environment_variables": {},
   "exception": null,
   "input_path": "__notebook__.ipynb",
   "output_path": "__notebook__.ipynb",
   "parameters": {},
   "start_time": "2025-06-08T07:56:41.219915",
   "version": "2.6.0"
  }
 },
 "nbformat": 4,
 "nbformat_minor": 5
}
